{
 "cells": [
  {
   "cell_type": "code",
   "execution_count": null,
   "metadata": {},
   "outputs": [],
   "source": [
    "!pip install -r requirements.txt"
   ]
  },
  {
   "cell_type": "code",
   "execution_count": 19,
   "metadata": {},
   "outputs": [],
   "source": [
    "import pandas as pd\n",
    "from datasets import load_dataset\n",
    "\n",
    "import fortepyan as ff"
   ]
  },
  {
   "cell_type": "code",
   "execution_count": null,
   "metadata": {},
   "outputs": [],
   "source": [
    "dataset = load_dataset(\"roszcz/maestro-v1-sustain\")\n",
    "ds = dataset[\"train\"]"
   ]
  },
  {
   "cell_type": "code",
   "execution_count": 24,
   "metadata": {},
   "outputs": [
    {
     "data": {
      "text/html": [
       "<pre style=\"white-space:pre;overflow-x:auto;line-height:normal;font-family:Menlo,'DejaVu Sans Mono',consolas,'Courier New',monospace\">Thirty-Two Variations in C Minor, WoO <span style=\"color: #008080; text-decoration-color: #008080; font-weight: bold\">80</span>    <span style=\"color: #008080; text-decoration-color: #008080; font-weight: bold\">18</span>\n",
       "Variations Serieuses, Op. <span style=\"color: #008080; text-decoration-color: #008080; font-weight: bold\">54</span>                <span style=\"color: #008080; text-decoration-color: #008080; font-weight: bold\">14</span>\n",
       "Sonata in C Minor, D958                     <span style=\"color: #008080; text-decoration-color: #008080; font-weight: bold\">14</span>\n",
       "Sonata in B-flat Major, D960                <span style=\"color: #008080; text-decoration-color: #008080; font-weight: bold\">10</span>\n",
       "Ballade No. <span style=\"color: #008080; text-decoration-color: #008080; font-weight: bold\">1</span> in G Minor, Op. <span style=\"color: #008080; text-decoration-color: #008080; font-weight: bold\">23</span>            <span style=\"color: #008080; text-decoration-color: #008080; font-weight: bold\">10</span>\n",
       "dtype: int64\n",
       "</pre>\n"
      ],
      "text/plain": [
       "Thirty-Two Variations in C Minor, WoO \u001b[1;36m80\u001b[0m    \u001b[1;36m18\u001b[0m\n",
       "Variations Serieuses, Op. \u001b[1;36m54\u001b[0m                \u001b[1;36m14\u001b[0m\n",
       "Sonata in C Minor, D958                     \u001b[1;36m14\u001b[0m\n",
       "Sonata in B-flat Major, D960                \u001b[1;36m10\u001b[0m\n",
       "Ballade No. \u001b[1;36m1\u001b[0m in G Minor, Op. \u001b[1;36m23\u001b[0m            \u001b[1;36m10\u001b[0m\n",
       "dtype: int64\n"
      ]
     },
     "metadata": {},
     "output_type": "display_data"
    },
    {
     "data": {
      "text/html": [
       "<pre style=\"white-space:pre;overflow-x:auto;line-height:normal;font-family:Menlo,'DejaVu Sans Mono',consolas,'Courier New',monospace\">Franz Schubert           <span style=\"color: #008080; text-decoration-color: #008080; font-weight: bold\">159</span>\n",
       "Frédéric Chopin          <span style=\"color: #008080; text-decoration-color: #008080; font-weight: bold\">145</span>\n",
       "Johann Sebastian Bach    <span style=\"color: #008080; text-decoration-color: #008080; font-weight: bold\">114</span>\n",
       "Ludwig van Beethoven     <span style=\"color: #008080; text-decoration-color: #008080; font-weight: bold\">110</span>\n",
       "Franz Liszt               <span style=\"color: #008080; text-decoration-color: #008080; font-weight: bold\">93</span>\n",
       "dtype: int64\n",
       "</pre>\n"
      ],
      "text/plain": [
       "Franz Schubert           \u001b[1;36m159\u001b[0m\n",
       "Frédéric Chopin          \u001b[1;36m145\u001b[0m\n",
       "Johann Sebastian Bach    \u001b[1;36m114\u001b[0m\n",
       "Ludwig van Beethoven     \u001b[1;36m110\u001b[0m\n",
       "Franz Liszt               \u001b[1;36m93\u001b[0m\n",
       "dtype: int64\n"
      ]
     },
     "metadata": {},
     "output_type": "display_data"
    }
   ],
   "source": [
    "# Investigate the dataset\n",
    "print(pd.Series(ds[\"title\"]).value_counts().head())\n",
    "print(pd.Series(ds[\"composer\"]).value_counts().head())"
   ]
  },
  {
   "cell_type": "code",
   "execution_count": 7,
   "metadata": {},
   "outputs": [],
   "source": [
    "# Load a random record from the dataset\n",
    "record = ds[137]\n",
    "piece = ff.MidiPiece.from_huggingface(record)\n",
    "\n",
    "# Take a 50 notes fragment of this record\n",
    "fragment = piece[100:150]\n",
    "\n",
    "# Use fortepyan to make a piano-roll\n",
    "title = f'{piece.source[\"composer\"]}: {piece.source[\"title\"]}, fragment duration: {fragment.duration:.2f}'\n",
    "fig = ff.roll.draw_pianoroll_with_velocities(fragment, title=title)"
   ]
  },
  {
   "cell_type": "code",
   "execution_count": 17,
   "metadata": {},
   "outputs": [
    {
     "data": {
      "text/html": [
       "<pre style=\"white-space:pre;overflow-x:auto;line-height:normal;font-family:Menlo,'DejaVu Sans Mono',consolas,'Courier New',monospace\">   duration       end  pitch     start  velocity\n",
       "<span style=\"color: #008080; text-decoration-color: #008080; font-weight: bold\">0</span>  <span style=\"color: #008080; text-decoration-color: #008080; font-weight: bold\">1.747396</span>  <span style=\"color: #008080; text-decoration-color: #008080; font-weight: bold\">1.747396</span>     <span style=\"color: #008080; text-decoration-color: #008080; font-weight: bold\">31</span>  <span style=\"color: #008080; text-decoration-color: #008080; font-weight: bold\">0.000000</span>        <span style=\"color: #008080; text-decoration-color: #008080; font-weight: bold\">75</span>\n",
       "<span style=\"color: #008080; text-decoration-color: #008080; font-weight: bold\">1</span>  <span style=\"color: #008080; text-decoration-color: #008080; font-weight: bold\">2.963542</span>  <span style=\"color: #008080; text-decoration-color: #008080; font-weight: bold\">4.246094</span>     <span style=\"color: #008080; text-decoration-color: #008080; font-weight: bold\">42</span>  <span style=\"color: #008080; text-decoration-color: #008080; font-weight: bold\">1.282552</span>        <span style=\"color: #008080; text-decoration-color: #008080; font-weight: bold\">81</span>\n",
       "<span style=\"color: #008080; text-decoration-color: #008080; font-weight: bold\">2</span>  <span style=\"color: #008080; text-decoration-color: #008080; font-weight: bold\">2.954427</span>  <span style=\"color: #008080; text-decoration-color: #008080; font-weight: bold\">4.246094</span>     <span style=\"color: #008080; text-decoration-color: #008080; font-weight: bold\">30</span>  <span style=\"color: #008080; text-decoration-color: #008080; font-weight: bold\">1.291667</span>        <span style=\"color: #008080; text-decoration-color: #008080; font-weight: bold\">69</span>\n",
       "<span style=\"color: #008080; text-decoration-color: #008080; font-weight: bold\">3</span>  <span style=\"color: #008080; text-decoration-color: #008080; font-weight: bold\">1.605469</span>  <span style=\"color: #008080; text-decoration-color: #008080; font-weight: bold\">4.246094</span>     <span style=\"color: #008080; text-decoration-color: #008080; font-weight: bold\">66</span>  <span style=\"color: #008080; text-decoration-color: #008080; font-weight: bold\">2.640625</span>        <span style=\"color: #008080; text-decoration-color: #008080; font-weight: bold\">92</span>\n",
       "<span style=\"color: #008080; text-decoration-color: #008080; font-weight: bold\">4</span>  <span style=\"color: #008080; text-decoration-color: #008080; font-weight: bold\">0.682292</span>  <span style=\"color: #008080; text-decoration-color: #008080; font-weight: bold\">3.332031</span>     <span style=\"color: #008080; text-decoration-color: #008080; font-weight: bold\">54</span>  <span style=\"color: #008080; text-decoration-color: #008080; font-weight: bold\">2.649740</span>        <span style=\"color: #008080; text-decoration-color: #008080; font-weight: bold\">84</span>\n",
       "</pre>\n"
      ],
      "text/plain": [
       "   duration       end  pitch     start  velocity\n",
       "\u001b[1;36m0\u001b[0m  \u001b[1;36m1.747396\u001b[0m  \u001b[1;36m1.747396\u001b[0m     \u001b[1;36m31\u001b[0m  \u001b[1;36m0.000000\u001b[0m        \u001b[1;36m75\u001b[0m\n",
       "\u001b[1;36m1\u001b[0m  \u001b[1;36m2.963542\u001b[0m  \u001b[1;36m4.246094\u001b[0m     \u001b[1;36m42\u001b[0m  \u001b[1;36m1.282552\u001b[0m        \u001b[1;36m81\u001b[0m\n",
       "\u001b[1;36m2\u001b[0m  \u001b[1;36m2.954427\u001b[0m  \u001b[1;36m4.246094\u001b[0m     \u001b[1;36m30\u001b[0m  \u001b[1;36m1.291667\u001b[0m        \u001b[1;36m69\u001b[0m\n",
       "\u001b[1;36m3\u001b[0m  \u001b[1;36m1.605469\u001b[0m  \u001b[1;36m4.246094\u001b[0m     \u001b[1;36m66\u001b[0m  \u001b[1;36m2.640625\u001b[0m        \u001b[1;36m92\u001b[0m\n",
       "\u001b[1;36m4\u001b[0m  \u001b[1;36m0.682292\u001b[0m  \u001b[1;36m3.332031\u001b[0m     \u001b[1;36m54\u001b[0m  \u001b[1;36m2.649740\u001b[0m        \u001b[1;36m84\u001b[0m\n"
      ]
     },
     "metadata": {},
     "output_type": "display_data"
    },
    {
     "data": {
      "text/html": [
       "<pre style=\"white-space:pre;overflow-x:auto;line-height:normal;font-family:Menlo,'DejaVu Sans Mono',consolas,'Courier New',monospace\">Sequence of pitches: <span style=\"font-weight: bold\">[</span><span style=\"color: #008080; text-decoration-color: #008080; font-weight: bold\">31</span> <span style=\"color: #008080; text-decoration-color: #008080; font-weight: bold\">42</span> <span style=\"color: #008080; text-decoration-color: #008080; font-weight: bold\">30</span> <span style=\"color: #008080; text-decoration-color: #008080; font-weight: bold\">66</span> <span style=\"color: #008080; text-decoration-color: #008080; font-weight: bold\">54</span> <span style=\"color: #008080; text-decoration-color: #008080; font-weight: bold\">35</span> <span style=\"color: #008080; text-decoration-color: #008080; font-weight: bold\">42</span> <span style=\"color: #008080; text-decoration-color: #008080; font-weight: bold\">47</span> <span style=\"color: #008080; text-decoration-color: #008080; font-weight: bold\">54</span> <span style=\"color: #008080; text-decoration-color: #008080; font-weight: bold\">59</span> <span style=\"color: #008080; text-decoration-color: #008080; font-weight: bold\">63</span> <span style=\"color: #008080; text-decoration-color: #008080; font-weight: bold\">54</span> <span style=\"color: #008080; text-decoration-color: #008080; font-weight: bold\">54</span> <span style=\"color: #008080; text-decoration-color: #008080; font-weight: bold\">66</span> <span style=\"color: #008080; text-decoration-color: #008080; font-weight: bold\">59</span> <span style=\"color: #008080; text-decoration-color: #008080; font-weight: bold\">87</span> <span style=\"color: #008080; text-decoration-color: #008080; font-weight: bold\">75</span> <span style=\"color: #008080; text-decoration-color: #008080; font-weight: bold\">63</span> <span style=\"color: #008080; text-decoration-color: #008080; font-weight: bold\">87</span> <span style=\"color: #008080; text-decoration-color: #008080; font-weight: bold\">75</span> <span style=\"color: #008080; text-decoration-color: #008080; font-weight: bold\">63</span> <span style=\"color: #008080; text-decoration-color: #008080; font-weight: bold\">57</span> <span style=\"color: #008080; text-decoration-color: #008080; font-weight: bold\">69</span> <span style=\"color: #008080; text-decoration-color: #008080; font-weight: bold\">81</span>\n",
       " <span style=\"color: #008080; text-decoration-color: #008080; font-weight: bold\">57</span> <span style=\"color: #008080; text-decoration-color: #008080; font-weight: bold\">69</span> <span style=\"color: #008080; text-decoration-color: #008080; font-weight: bold\">81</span> <span style=\"color: #008080; text-decoration-color: #008080; font-weight: bold\">78</span> <span style=\"color: #008080; text-decoration-color: #008080; font-weight: bold\">81</span> <span style=\"color: #008080; text-decoration-color: #008080; font-weight: bold\">69</span> <span style=\"color: #008080; text-decoration-color: #008080; font-weight: bold\">93</span> <span style=\"color: #008080; text-decoration-color: #008080; font-weight: bold\">90</span> <span style=\"color: #008080; text-decoration-color: #008080; font-weight: bold\">93</span> <span style=\"color: #008080; text-decoration-color: #008080; font-weight: bold\">81</span> <span style=\"color: #008080; text-decoration-color: #008080; font-weight: bold\">69</span> <span style=\"color: #008080; text-decoration-color: #008080; font-weight: bold\">87</span> <span style=\"color: #008080; text-decoration-color: #008080; font-weight: bold\">90</span> <span style=\"color: #008080; text-decoration-color: #008080; font-weight: bold\">87</span> <span style=\"color: #008080; text-decoration-color: #008080; font-weight: bold\">63</span> <span style=\"color: #008080; text-decoration-color: #008080; font-weight: bold\">75</span> <span style=\"color: #008080; text-decoration-color: #008080; font-weight: bold\">87</span> <span style=\"color: #008080; text-decoration-color: #008080; font-weight: bold\">75</span> <span style=\"color: #008080; text-decoration-color: #008080; font-weight: bold\">62</span> <span style=\"color: #008080; text-decoration-color: #008080; font-weight: bold\">63</span> <span style=\"color: #008080; text-decoration-color: #008080; font-weight: bold\">54</span> <span style=\"color: #008080; text-decoration-color: #008080; font-weight: bold\">47</span> <span style=\"color: #008080; text-decoration-color: #008080; font-weight: bold\">35</span> <span style=\"color: #008080; text-decoration-color: #008080; font-weight: bold\">57</span>\n",
       " <span style=\"color: #008080; text-decoration-color: #008080; font-weight: bold\">61</span> <span style=\"color: #008080; text-decoration-color: #008080; font-weight: bold\">54</span><span style=\"font-weight: bold\">]</span>\n",
       "</pre>\n"
      ],
      "text/plain": [
       "Sequence of pitches: \u001b[1m[\u001b[0m\u001b[1;36m31\u001b[0m \u001b[1;36m42\u001b[0m \u001b[1;36m30\u001b[0m \u001b[1;36m66\u001b[0m \u001b[1;36m54\u001b[0m \u001b[1;36m35\u001b[0m \u001b[1;36m42\u001b[0m \u001b[1;36m47\u001b[0m \u001b[1;36m54\u001b[0m \u001b[1;36m59\u001b[0m \u001b[1;36m63\u001b[0m \u001b[1;36m54\u001b[0m \u001b[1;36m54\u001b[0m \u001b[1;36m66\u001b[0m \u001b[1;36m59\u001b[0m \u001b[1;36m87\u001b[0m \u001b[1;36m75\u001b[0m \u001b[1;36m63\u001b[0m \u001b[1;36m87\u001b[0m \u001b[1;36m75\u001b[0m \u001b[1;36m63\u001b[0m \u001b[1;36m57\u001b[0m \u001b[1;36m69\u001b[0m \u001b[1;36m81\u001b[0m\n",
       " \u001b[1;36m57\u001b[0m \u001b[1;36m69\u001b[0m \u001b[1;36m81\u001b[0m \u001b[1;36m78\u001b[0m \u001b[1;36m81\u001b[0m \u001b[1;36m69\u001b[0m \u001b[1;36m93\u001b[0m \u001b[1;36m90\u001b[0m \u001b[1;36m93\u001b[0m \u001b[1;36m81\u001b[0m \u001b[1;36m69\u001b[0m \u001b[1;36m87\u001b[0m \u001b[1;36m90\u001b[0m \u001b[1;36m87\u001b[0m \u001b[1;36m63\u001b[0m \u001b[1;36m75\u001b[0m \u001b[1;36m87\u001b[0m \u001b[1;36m75\u001b[0m \u001b[1;36m62\u001b[0m \u001b[1;36m63\u001b[0m \u001b[1;36m54\u001b[0m \u001b[1;36m47\u001b[0m \u001b[1;36m35\u001b[0m \u001b[1;36m57\u001b[0m\n",
       " \u001b[1;36m61\u001b[0m \u001b[1;36m54\u001b[0m\u001b[1m]\u001b[0m\n"
      ]
     },
     "metadata": {},
     "output_type": "display_data"
    }
   ],
   "source": [
    "# Fragments like this can be the input to the pattern matching algorithm\n",
    "df = fragment.df\n",
    "print(df.head())\n",
    "print(\"Sequence of pitches:\", df.pitch.values)"
   ]
  },
  {
   "cell_type": "markdown",
   "metadata": {},
   "source": []
  }
 ],
 "metadata": {
  "kernelspec": {
   "display_name": "midi-eda",
   "language": "python",
   "name": "python3"
  },
  "language_info": {
   "codemirror_mode": {
    "name": "ipython",
    "version": 3
   },
   "file_extension": ".py",
   "mimetype": "text/x-python",
   "name": "python",
   "nbconvert_exporter": "python",
   "pygments_lexer": "ipython3",
   "version": "3.9.10"
  },
  "orig_nbformat": 4
 },
 "nbformat": 4,
 "nbformat_minor": 2
}
