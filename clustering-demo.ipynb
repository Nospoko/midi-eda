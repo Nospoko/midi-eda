{
 "cells": [
  {
   "cell_type": "code",
   "execution_count": 1,
   "metadata": {},
   "outputs": [
    {
     "name": "stderr",
     "output_type": "stream",
     "text": [
      "Found cached dataset parquet (/home/hagrid/.cache/huggingface/datasets/roszcz___parquet/roszcz--internship-midi-data-science-5506ea35081b41a4/0.0.0/2a3b91fbd88a2c90d1dbbb32b460cf621d31bd5b05b934492fdef7d8d6f236ec)\n"
     ]
    }
   ],
   "source": [
    "from datasets import load_dataset\n",
    "\n",
    "dataset = load_dataset(\"roszcz/internship-midi-data-science\", split=\"train\")"
   ]
  },
  {
   "cell_type": "code",
   "execution_count": 2,
   "metadata": {},
   "outputs": [],
   "source": [
    "from fortepyan import MidiPiece\n",
    "\n",
    "piece = MidiPiece.from_huggingface(dataset[0])"
   ]
  },
  {
   "cell_type": "code",
   "execution_count": 3,
   "metadata": {},
   "outputs": [
    {
     "data": {
      "text/html": [
       "<pre style=\"white-space:pre;overflow-x:auto;line-height:normal;font-family:Menlo,'DejaVu Sans Mono',consolas,'Courier New',monospace\"><span style=\"color: #800080; text-decoration-color: #800080; font-weight: bold\">MidiPiece</span><span style=\"font-weight: bold\">(</span><span style=\"color: #008000; text-decoration-color: #008000\">'MidiPiece'</span>, <span style=\"color: #808000; text-decoration-color: #808000\">notes</span>=<span style=\"font-weight: bold\">(</span><span style=\"color: #008080; text-decoration-color: #008080; font-weight: bold\">88887</span>, <span style=\"color: #008080; text-decoration-color: #008080; font-weight: bold\">5</span><span style=\"font-weight: bold\">)</span>, <span style=\"color: #808000; text-decoration-color: #808000\">minutes</span>=<span style=\"color: #008080; text-decoration-color: #008080; font-weight: bold\">180.92</span><span style=\"font-weight: bold\">)</span>\n",
       "</pre>\n"
      ],
      "text/plain": [
       "\u001b[1;35mMidiPiece\u001b[0m\u001b[1m(\u001b[0m\u001b[32m'MidiPiece'\u001b[0m, \u001b[33mnotes\u001b[0m=\u001b[1m(\u001b[0m\u001b[1;36m88887\u001b[0m, \u001b[1;36m5\u001b[0m\u001b[1m)\u001b[0m, \u001b[33mminutes\u001b[0m=\u001b[1;36m180\u001b[0m\u001b[1;36m.92\u001b[0m\u001b[1m)\u001b[0m\n"
      ]
     },
     "metadata": {},
     "output_type": "display_data"
    }
   ],
   "source": [
    "print(piece)"
   ]
  },
  {
   "cell_type": "code",
   "execution_count": 6,
   "metadata": {},
   "outputs": [
    {
     "data": {
      "text/html": [
       "<pre style=\"white-space:pre;overflow-x:auto;line-height:normal;font-family:Menlo,'DejaVu Sans Mono',consolas,'Courier New',monospace\">   left_shift  <span style=\"color: #808000; text-decoration-color: #808000\">...</span>                                               idxs\n",
       "<span style=\"color: #008080; text-decoration-color: #008080; font-weight: bold\">0</span>          <span style=\"color: #008080; text-decoration-color: #008080; font-weight: bold\">15</span>  <span style=\"color: #808000; text-decoration-color: #808000\">...</span>  <span style=\"font-weight: bold\">[</span><span style=\"color: #008080; text-decoration-color: #008080; font-weight: bold\">16554</span>, <span style=\"color: #008080; text-decoration-color: #008080; font-weight: bold\">18101</span>, <span style=\"color: #008080; text-decoration-color: #008080; font-weight: bold\">20024</span>, <span style=\"color: #008080; text-decoration-color: #008080; font-weight: bold\">21483</span>, <span style=\"color: #008080; text-decoration-color: #008080; font-weight: bold\">21546</span>, <span style=\"color: #008080; text-decoration-color: #008080; font-weight: bold\">22561</span>, <span style=\"color: #008080; text-decoration-color: #008080; font-weight: bold\">233</span><span style=\"color: #808000; text-decoration-color: #808000\">...</span>\n",
       "<span style=\"color: #008080; text-decoration-color: #008080; font-weight: bold\">1</span>          <span style=\"color: #008080; text-decoration-color: #008080; font-weight: bold\">10</span>  <span style=\"color: #808000; text-decoration-color: #808000\">...</span>  <span style=\"font-weight: bold\">[</span><span style=\"color: #008080; text-decoration-color: #008080; font-weight: bold\">11398</span>, <span style=\"color: #008080; text-decoration-color: #008080; font-weight: bold\">16363</span>, <span style=\"color: #008080; text-decoration-color: #008080; font-weight: bold\">25673</span>, <span style=\"color: #008080; text-decoration-color: #008080; font-weight: bold\">27798</span>, <span style=\"color: #008080; text-decoration-color: #008080; font-weight: bold\">29931</span>, <span style=\"color: #008080; text-decoration-color: #008080; font-weight: bold\">29958</span>, <span style=\"color: #008080; text-decoration-color: #008080; font-weight: bold\">403</span><span style=\"color: #808000; text-decoration-color: #808000\">...</span>\n",
       "<span style=\"color: #008080; text-decoration-color: #008080; font-weight: bold\">2</span>           <span style=\"color: #008080; text-decoration-color: #008080; font-weight: bold\">5</span>  <span style=\"color: #808000; text-decoration-color: #808000\">...</span>  <span style=\"font-weight: bold\">[</span><span style=\"color: #008080; text-decoration-color: #008080; font-weight: bold\">11251</span>, <span style=\"color: #008080; text-decoration-color: #008080; font-weight: bold\">12147</span>, <span style=\"color: #008080; text-decoration-color: #008080; font-weight: bold\">12913</span>, <span style=\"color: #008080; text-decoration-color: #008080; font-weight: bold\">13878</span>, <span style=\"color: #008080; text-decoration-color: #008080; font-weight: bold\">17705</span>, <span style=\"color: #008080; text-decoration-color: #008080; font-weight: bold\">18504</span>, <span style=\"color: #008080; text-decoration-color: #008080; font-weight: bold\">185</span><span style=\"color: #808000; text-decoration-color: #808000\">...</span>\n",
       "<span style=\"color: #008080; text-decoration-color: #008080; font-weight: bold\">3</span>           <span style=\"color: #008080; text-decoration-color: #008080; font-weight: bold\">5</span>  <span style=\"color: #808000; text-decoration-color: #808000\">...</span>  <span style=\"font-weight: bold\">[</span><span style=\"color: #008080; text-decoration-color: #008080; font-weight: bold\">21314</span>, <span style=\"color: #008080; text-decoration-color: #008080; font-weight: bold\">25539</span>, <span style=\"color: #008080; text-decoration-color: #008080; font-weight: bold\">25585</span>, <span style=\"color: #008080; text-decoration-color: #008080; font-weight: bold\">30010</span>, <span style=\"color: #008080; text-decoration-color: #008080; font-weight: bold\">31567</span>, <span style=\"color: #008080; text-decoration-color: #008080; font-weight: bold\">31660</span>, <span style=\"color: #008080; text-decoration-color: #008080; font-weight: bold\">535</span><span style=\"color: #808000; text-decoration-color: #808000\">...</span>\n",
       "<span style=\"color: #008080; text-decoration-color: #008080; font-weight: bold\">4</span>           <span style=\"color: #008080; text-decoration-color: #008080; font-weight: bold\">5</span>  <span style=\"color: #808000; text-decoration-color: #808000\">...</span>  <span style=\"font-weight: bold\">[</span><span style=\"color: #008080; text-decoration-color: #008080; font-weight: bold\">11493</span>, <span style=\"color: #008080; text-decoration-color: #008080; font-weight: bold\">17959</span>, <span style=\"color: #008080; text-decoration-color: #008080; font-weight: bold\">19747</span>, <span style=\"color: #008080; text-decoration-color: #008080; font-weight: bold\">20650</span>, <span style=\"color: #008080; text-decoration-color: #008080; font-weight: bold\">21389</span>, <span style=\"color: #008080; text-decoration-color: #008080; font-weight: bold\">27943</span>, <span style=\"color: #008080; text-decoration-color: #008080; font-weight: bold\">53939</span><span style=\"font-weight: bold\">]</span>\n",
       "\n",
       "<span style=\"font-weight: bold\">[</span><span style=\"color: #008080; text-decoration-color: #008080; font-weight: bold\">5</span> rows x <span style=\"color: #008080; text-decoration-color: #008080; font-weight: bold\">6</span> columns<span style=\"font-weight: bold\">]</span>\n",
       "</pre>\n"
      ],
      "text/plain": [
       "   left_shift  \u001b[33m...\u001b[0m                                               idxs\n",
       "\u001b[1;36m0\u001b[0m          \u001b[1;36m15\u001b[0m  \u001b[33m...\u001b[0m  \u001b[1m[\u001b[0m\u001b[1;36m16554\u001b[0m, \u001b[1;36m18101\u001b[0m, \u001b[1;36m20024\u001b[0m, \u001b[1;36m21483\u001b[0m, \u001b[1;36m21546\u001b[0m, \u001b[1;36m22561\u001b[0m, \u001b[1;36m233\u001b[0m\u001b[33m...\u001b[0m\n",
       "\u001b[1;36m1\u001b[0m          \u001b[1;36m10\u001b[0m  \u001b[33m...\u001b[0m  \u001b[1m[\u001b[0m\u001b[1;36m11398\u001b[0m, \u001b[1;36m16363\u001b[0m, \u001b[1;36m25673\u001b[0m, \u001b[1;36m27798\u001b[0m, \u001b[1;36m29931\u001b[0m, \u001b[1;36m29958\u001b[0m, \u001b[1;36m403\u001b[0m\u001b[33m...\u001b[0m\n",
       "\u001b[1;36m2\u001b[0m           \u001b[1;36m5\u001b[0m  \u001b[33m...\u001b[0m  \u001b[1m[\u001b[0m\u001b[1;36m11251\u001b[0m, \u001b[1;36m12147\u001b[0m, \u001b[1;36m12913\u001b[0m, \u001b[1;36m13878\u001b[0m, \u001b[1;36m17705\u001b[0m, \u001b[1;36m18504\u001b[0m, \u001b[1;36m185\u001b[0m\u001b[33m...\u001b[0m\n",
       "\u001b[1;36m3\u001b[0m           \u001b[1;36m5\u001b[0m  \u001b[33m...\u001b[0m  \u001b[1m[\u001b[0m\u001b[1;36m21314\u001b[0m, \u001b[1;36m25539\u001b[0m, \u001b[1;36m25585\u001b[0m, \u001b[1;36m30010\u001b[0m, \u001b[1;36m31567\u001b[0m, \u001b[1;36m31660\u001b[0m, \u001b[1;36m535\u001b[0m\u001b[33m...\u001b[0m\n",
       "\u001b[1;36m4\u001b[0m           \u001b[1;36m5\u001b[0m  \u001b[33m...\u001b[0m  \u001b[1m[\u001b[0m\u001b[1;36m11493\u001b[0m, \u001b[1;36m17959\u001b[0m, \u001b[1;36m19747\u001b[0m, \u001b[1;36m20650\u001b[0m, \u001b[1;36m21389\u001b[0m, \u001b[1;36m27943\u001b[0m, \u001b[1;36m53939\u001b[0m\u001b[1m]\u001b[0m\n",
       "\n",
       "\u001b[1m[\u001b[0m\u001b[1;36m5\u001b[0m rows x \u001b[1;36m6\u001b[0m columns\u001b[1m]\u001b[0m\n"
      ]
     },
     "metadata": {},
     "output_type": "display_data"
    }
   ],
   "source": [
    "from ideas.clustering import process as clustering_process\n",
    "\n",
    "# Seed size\n",
    "n = 16\n",
    "df = clustering_process.run(piece=piece, n=n)\n",
    "\n",
    "print(df.head())"
   ]
  },
  {
   "cell_type": "code",
   "execution_count": null,
   "metadata": {},
   "outputs": [],
   "source": [
    "import fortepyan as ff\n",
    "from matplotlib import pyplot as plt\n",
    "from fortepyan.viz.structures import PianoRoll\n",
    "\n",
    "# Show a random sequence and up to 10 of its variants\n",
    "variant = df.sample().iloc[0].to_dict()\n",
    "\n",
    "howmany = min(variant[\"n_variants\"], 10)\n",
    "left_shift = variant[\"left_shift\"]\n",
    "right_shift = variant[\"right_shift\"]\n",
    "idxs = variant[\"idxs\"]\n",
    "\n",
    "fig, axes = plt.subplots(nrows=howmany, ncols=1, figsize=[10, 2 * howmany])\n",
    "if howmany == 1:\n",
    "    axes = [axes]\n",
    "for ax, it in zip(axes, idxs):\n",
    "    p = piece[it - left_shift: it + n + right_shift]\n",
    "    pr = PianoRoll(p)\n",
    "    #pr.duration = 4\n",
    "    ff.roll.draw_piano_roll(ax=ax, piano_roll=pr)\n",
    "    ax.set_title(f\"Index: {it}\")\n",
    "\n",
    "fig.tight_layout()"
   ]
  },
  {
   "cell_type": "code",
   "execution_count": null,
   "metadata": {},
   "outputs": [],
   "source": []
  }
 ],
 "metadata": {
  "kernelspec": {
   "display_name": "midi-eda",
   "language": "python",
   "name": "python3"
  },
  "language_info": {
   "codemirror_mode": {
    "name": "ipython",
    "version": 3
   },
   "file_extension": ".py",
   "mimetype": "text/x-python",
   "name": "python",
   "nbconvert_exporter": "python",
   "pygments_lexer": "ipython3",
   "version": "3.9.10"
  },
  "orig_nbformat": 4
 },
 "nbformat": 4,
 "nbformat_minor": 2
}
